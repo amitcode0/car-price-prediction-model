{
 "cells": [
  {
   "cell_type": "markdown",
   "id": "90c36088",
   "metadata": {},
   "source": [
    "# Step 1: Load & Explore Dataset"
   ]
  },
  {
   "cell_type": "code",
   "execution_count": 4,
   "id": "86cb6cb5",
   "metadata": {},
   "outputs": [
    {
     "name": "stdout",
     "output_type": "stream",
     "text": [
      "(426880, 26)\n",
      "           id                                                url  \\\n",
      "0  7222695916  https://prescott.craigslist.org/cto/d/prescott...   \n",
      "1  7218891961  https://fayar.craigslist.org/ctd/d/bentonville...   \n",
      "2  7221797935  https://keys.craigslist.org/cto/d/summerland-k...   \n",
      "3  7222270760  https://worcester.craigslist.org/cto/d/west-br...   \n",
      "4  7210384030  https://greensboro.craigslist.org/cto/d/trinit...   \n",
      "\n",
      "                   region                         region_url  price  year  \\\n",
      "0                prescott    https://prescott.craigslist.org   6000   NaN   \n",
      "1            fayetteville       https://fayar.craigslist.org  11900   NaN   \n",
      "2            florida keys        https://keys.craigslist.org  21000   NaN   \n",
      "3  worcester / central MA   https://worcester.craigslist.org   1500   NaN   \n",
      "4              greensboro  https://greensboro.craigslist.org   4900   NaN   \n",
      "\n",
      "  manufacturer model condition cylinders  ... size  type paint_color  \\\n",
      "0          NaN   NaN       NaN       NaN  ...  NaN   NaN         NaN   \n",
      "1          NaN   NaN       NaN       NaN  ...  NaN   NaN         NaN   \n",
      "2          NaN   NaN       NaN       NaN  ...  NaN   NaN         NaN   \n",
      "3          NaN   NaN       NaN       NaN  ...  NaN   NaN         NaN   \n",
      "4          NaN   NaN       NaN       NaN  ...  NaN   NaN         NaN   \n",
      "\n",
      "  image_url description county state lat long posting_date  \n",
      "0       NaN         NaN    NaN    az NaN  NaN          NaN  \n",
      "1       NaN         NaN    NaN    ar NaN  NaN          NaN  \n",
      "2       NaN         NaN    NaN    fl NaN  NaN          NaN  \n",
      "3       NaN         NaN    NaN    ma NaN  NaN          NaN  \n",
      "4       NaN         NaN    NaN    nc NaN  NaN          NaN  \n",
      "\n",
      "[5 rows x 26 columns]\n"
     ]
    }
   ],
   "source": [
    "import pandas as pd\n",
    "\n",
    "# Load dataset\n",
    "df = pd.read_csv(\"vehicles.csv\")  \n",
    "\n",
    "print(df.shape)   \n",
    "print(df.head())\n"
   ]
  },
  {
   "cell_type": "markdown",
   "id": "f726e38c",
   "metadata": {},
   "source": [
    "# Step 2: Keep Useful Columns"
   ]
  },
  {
   "cell_type": "code",
   "execution_count": 5,
   "id": "789c7a76",
   "metadata": {},
   "outputs": [],
   "source": [
    "# Select important columns\n",
    "df = df[[\"price\", \"year\", \"manufacturer\", \"model\", \"fuel\", \"odometer\", \"transmission\"]]\n",
    "\n",
    "# Drop rows with missing values\n",
    "df = df.dropna()\n"
   ]
  },
  {
   "cell_type": "markdown",
   "id": "00aa7a38",
   "metadata": {},
   "source": [
    "# Step 3: Filter Outliers"
   ]
  },
  {
   "cell_type": "code",
   "execution_count": 6,
   "id": "6fe2d662",
   "metadata": {},
   "outputs": [],
   "source": [
    "# Keep only reasonable prices\n",
    "df = df[(df[\"price\"] > 1000) & (df[\"price\"] < 100000)]\n",
    "\n",
    "# Keep odometer within range\n",
    "df = df[(df[\"odometer\"] > 0) & (df[\"odometer\"] < 300000)]\n"
   ]
  },
  {
   "cell_type": "markdown",
   "id": "51d9a9a2",
   "metadata": {},
   "source": [
    "# Step 4: Take a Sample of 200,000 Rows"
   ]
  },
  {
   "cell_type": "code",
   "execution_count": 7,
   "id": "875ac97b",
   "metadata": {},
   "outputs": [
    {
     "name": "stdout",
     "output_type": "stream",
     "text": [
      "(200000, 7)\n"
     ]
    }
   ],
   "source": [
    "df_sample = df.sample(200000, random_state=42)\n",
    "print(df_sample.shape)  \n"
   ]
  },
  {
   "cell_type": "markdown",
   "id": "0f5a05d6",
   "metadata": {},
   "source": [
    "# Step 5: Encode Categorical Features"
   ]
  },
  {
   "cell_type": "code",
   "execution_count": 8,
   "id": "4d9a21cd",
   "metadata": {},
   "outputs": [],
   "source": [
    "from sklearn.preprocessing import LabelEncoder\n",
    "\n",
    "categorical_cols = [\"manufacturer\", \"model\", \"fuel\", \"transmission\"]\n",
    "label_encoders = {}\n",
    "for col in categorical_cols:\n",
    "    le = LabelEncoder()\n",
    "    df_sample[col] = le.fit_transform(df_sample[col])\n",
    "    label_encoders[col] = le\n"
   ]
  },
  {
   "cell_type": "markdown",
   "id": "451d69b9",
   "metadata": {},
   "source": [
    "# Step 6: Train/Test Split & Model Training"
   ]
  },
  {
   "cell_type": "code",
   "execution_count": 18,
   "id": "4c3d1f7c",
   "metadata": {},
   "outputs": [
    {
     "name": "stdout",
     "output_type": "stream",
     "text": [
      "Model Evaluation:\n",
      "MAE: 2001.31\n",
      "RMSE: 4272.86\n",
      "R² Score: 0.9079\n",
      "Model and feature names saved (model.pkl, features.pkl)\n"
     ]
    }
   ],
   "source": [
    "from sklearn.model_selection import train_test_split\n",
    "from sklearn.ensemble import RandomForestRegressor\n",
    "from sklearn.metrics import mean_absolute_error, mean_squared_error, r2_score\n",
    "import numpy as np\n",
    "import pickle\n",
    "\n",
    "# Features and Target\n",
    "X = df_sample.drop(\"price\", axis=1)\n",
    "y = df_sample[\"price\"]\n",
    "\n",
    "# Split\n",
    "X_train, X_test, y_train, y_test = train_test_split(X, y, test_size=0.2, random_state=42)\n",
    "\n",
    "# Train Random Forest\n",
    "model = RandomForestRegressor(n_estimators=100, random_state=42, n_jobs=-1)\n",
    "model.fit(X_train, y_train)\n",
    "\n",
    "# Predictions\n",
    "y_pred = model.predict(X_test)\n",
    "\n",
    "# Evaluate\n",
    "mae = mean_absolute_error(y_test, y_pred)\n",
    "rmse = np.sqrt(mean_squared_error(y_test, y_pred))\n",
    "r2 = r2_score(y_test, y_pred)\n",
    "\n",
    "print(\"Model Evaluation:\")\n",
    "print(f\"MAE: {mae:.2f}\")\n",
    "print(f\"RMSE: {rmse:.2f}\")\n",
    "print(f\"R² Score: {r2:.4f}\")\n",
    "\n",
    "\n",
    "# Save model and features\n",
    "\n",
    "with open(\"model.pkl\", \"wb\") as f:\n",
    "    pickle.dump(model, f)\n",
    "\n",
    "with open(\"features.pkl\", \"wb\") as f:\n",
    "    pickle.dump(list(X.columns), f)\n",
    "\n",
    "print(\"Model and feature names saved (model.pkl, features.pkl)\")\n"
   ]
  },
  {
   "cell_type": "markdown",
   "id": "9672ee53",
   "metadata": {},
   "source": [
    "# Future work: using the xgboost model "
   ]
  },
  {
   "cell_type": "code",
   "execution_count": null,
   "id": "a8693a91",
   "metadata": {},
   "outputs": [],
   "source": []
  }
 ],
 "metadata": {
  "kernelspec": {
   "display_name": "Python 3 (ipykernel)",
   "language": "python",
   "name": "python3"
  },
  "language_info": {
   "codemirror_mode": {
    "name": "ipython",
    "version": 3
   },
   "file_extension": ".py",
   "mimetype": "text/x-python",
   "name": "python",
   "nbconvert_exporter": "python",
   "pygments_lexer": "ipython3",
   "version": "3.10.2"
  }
 },
 "nbformat": 4,
 "nbformat_minor": 5
}
